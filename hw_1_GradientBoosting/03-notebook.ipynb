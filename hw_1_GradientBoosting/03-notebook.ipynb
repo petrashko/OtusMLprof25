{
 "cells": [
  {
   "cell_type": "code",
   "execution_count": 2,
   "id": "8096e9d0-7705-4c06-b6a4-7799bbc66c29",
   "metadata": {
    "tags": []
   },
   "outputs": [],
   "source": [
    "#import os\n",
    "#\n",
    "import numpy as np\n",
    "import pandas as pd\n",
    "import matplotlib.pyplot as plt\n",
    "import seaborn as sns\n",
    "#\n",
    "from sklearn.model_selection import train_test_split\n",
    "# Поиск по сетке оптимальных гиперпараметров модели обучения,\n",
    "# с применением алгоритма кросс-валидации\n",
    "from sklearn.model_selection import GridSearchCV\n",
    "# Модель Gradient Boosting (для задач классификаии)\n",
    "from sklearn.ensemble import GradientBoostingClassifier\n",
    "# Метрика (оценка) для задач классификации: accuracy, precision и recall\n",
    "from sklearn.metrics import accuracy_score #, precision_score, recall_score\n",
    "# Матрица ошибок классификации и метод для вычисления ошибок 1-го и 2-го рода\n",
    "from sklearn.metrics import confusion_matrix, classification_report\n",
    "# Инструменты для визуализации матрицы ошибок\n",
    "from sklearn.metrics import ConfusionMatrixDisplay\n",
    "\n",
    "%matplotlib inline\n",
    "#sep = os.sep"
   ]
  },
  {
   "cell_type": "code",
   "execution_count": 8,
   "id": "a95e1936-eb0d-4586-b4b6-acf1142ef7d5",
   "metadata": {
    "tags": []
   },
   "outputs": [],
   "source": [
    "# Анализ оттока клиентов - Часть 3 - Градиентный бустинг и поиск по сетке"
   ]
  },
  {
   "cell_type": "code",
   "execution_count": 4,
   "id": "bef0acc6-1d76-4e68-8e08-f69878c0e6a0",
   "metadata": {
    "tags": []
   },
   "outputs": [
    {
     "data": {
      "text/html": [
       "<div>\n",
       "<style scoped>\n",
       "    .dataframe tbody tr th:only-of-type {\n",
       "        vertical-align: middle;\n",
       "    }\n",
       "\n",
       "    .dataframe tbody tr th {\n",
       "        vertical-align: top;\n",
       "    }\n",
       "\n",
       "    .dataframe thead th {\n",
       "        text-align: right;\n",
       "    }\n",
       "</style>\n",
       "<table border=\"1\" class=\"dataframe\">\n",
       "  <thead>\n",
       "    <tr style=\"text-align: right;\">\n",
       "      <th></th>\n",
       "      <th>customerID</th>\n",
       "      <th>gender</th>\n",
       "      <th>SeniorCitizen</th>\n",
       "      <th>Partner</th>\n",
       "      <th>Dependents</th>\n",
       "      <th>tenure</th>\n",
       "      <th>PhoneService</th>\n",
       "      <th>MultipleLines</th>\n",
       "      <th>InternetService</th>\n",
       "      <th>OnlineSecurity</th>\n",
       "      <th>...</th>\n",
       "      <th>DeviceProtection</th>\n",
       "      <th>TechSupport</th>\n",
       "      <th>StreamingTV</th>\n",
       "      <th>StreamingMovies</th>\n",
       "      <th>Contract</th>\n",
       "      <th>PaperlessBilling</th>\n",
       "      <th>PaymentMethod</th>\n",
       "      <th>MonthlyCharges</th>\n",
       "      <th>TotalCharges</th>\n",
       "      <th>Churn</th>\n",
       "    </tr>\n",
       "  </thead>\n",
       "  <tbody>\n",
       "    <tr>\n",
       "      <th>2712</th>\n",
       "      <td>0244-LGNFY</td>\n",
       "      <td>Female</td>\n",
       "      <td>0</td>\n",
       "      <td>Yes</td>\n",
       "      <td>Yes</td>\n",
       "      <td>72</td>\n",
       "      <td>Yes</td>\n",
       "      <td>Yes</td>\n",
       "      <td>DSL</td>\n",
       "      <td>Yes</td>\n",
       "      <td>...</td>\n",
       "      <td>Yes</td>\n",
       "      <td>Yes</td>\n",
       "      <td>Yes</td>\n",
       "      <td>Yes</td>\n",
       "      <td>Two year</td>\n",
       "      <td>No</td>\n",
       "      <td>Bank transfer (automatic)</td>\n",
       "      <td>92.65</td>\n",
       "      <td>6733.00</td>\n",
       "      <td>No</td>\n",
       "    </tr>\n",
       "    <tr>\n",
       "      <th>6090</th>\n",
       "      <td>7711-GQBZC</td>\n",
       "      <td>Female</td>\n",
       "      <td>0</td>\n",
       "      <td>Yes</td>\n",
       "      <td>Yes</td>\n",
       "      <td>71</td>\n",
       "      <td>Yes</td>\n",
       "      <td>Yes</td>\n",
       "      <td>No</td>\n",
       "      <td>No internet service</td>\n",
       "      <td>...</td>\n",
       "      <td>No internet service</td>\n",
       "      <td>No internet service</td>\n",
       "      <td>No internet service</td>\n",
       "      <td>No internet service</td>\n",
       "      <td>Two year</td>\n",
       "      <td>No</td>\n",
       "      <td>Bank transfer (automatic)</td>\n",
       "      <td>24.70</td>\n",
       "      <td>1810.55</td>\n",
       "      <td>No</td>\n",
       "    </tr>\n",
       "  </tbody>\n",
       "</table>\n",
       "<p>2 rows × 21 columns</p>\n",
       "</div>"
      ],
      "text/plain": [
       "      customerID  gender  SeniorCitizen Partner Dependents  tenure  \\\n",
       "2712  0244-LGNFY  Female              0     Yes        Yes      72   \n",
       "6090  7711-GQBZC  Female              0     Yes        Yes      71   \n",
       "\n",
       "     PhoneService MultipleLines InternetService       OnlineSecurity  ...  \\\n",
       "2712          Yes           Yes             DSL                  Yes  ...   \n",
       "6090          Yes           Yes              No  No internet service  ...   \n",
       "\n",
       "         DeviceProtection          TechSupport          StreamingTV  \\\n",
       "2712                  Yes                  Yes                  Yes   \n",
       "6090  No internet service  No internet service  No internet service   \n",
       "\n",
       "          StreamingMovies  Contract PaperlessBilling  \\\n",
       "2712                  Yes  Two year               No   \n",
       "6090  No internet service  Two year               No   \n",
       "\n",
       "                  PaymentMethod MonthlyCharges  TotalCharges  Churn  \n",
       "2712  Bank transfer (automatic)          92.65       6733.00     No  \n",
       "6090  Bank transfer (automatic)          24.70       1810.55     No  \n",
       "\n",
       "[2 rows x 21 columns]"
      ]
     },
     "execution_count": 4,
     "metadata": {},
     "output_type": "execute_result"
    }
   ],
   "source": [
    "# Загрузить данные в DataFrame из csv-файла\n",
    "df = pd.read_csv('Telco-Customer-Churn.csv')\n",
    "df.sample(2)"
   ]
  },
  {
   "cell_type": "code",
   "execution_count": 5,
   "id": "3e41f224-33db-4f2e-b707-a839363078ff",
   "metadata": {
    "tags": []
   },
   "outputs": [],
   "source": [
    "# Признаки - Features\n",
    "X = df.drop('Churn', axis='columns')\n",
    "# Целевая переменная\n",
    "y = df['Churn']"
   ]
  },
  {
   "cell_type": "code",
   "execution_count": 6,
   "id": "7dfa46d8-abec-40f2-9997-06f8b5fc0c7f",
   "metadata": {
    "tags": []
   },
   "outputs": [],
   "source": [
    "# Удалить из признаков колонку 'customerID'\n",
    "X = X.drop('customerID', axis='columns')"
   ]
  },
  {
   "cell_type": "code",
   "execution_count": 7,
   "id": "97370c29-cf20-47e3-9848-42ada0d36d16",
   "metadata": {
    "tags": []
   },
   "outputs": [],
   "source": [
    "# Получить только текстовые колонки из DataFrame'a\n",
    "myObjectDf = X.select_dtypes(include='object')\n",
    "#print(myObjectDf); print()\n",
    "\n",
    "# Получить все колонки исключая текстовые из DataFrame'a\n",
    "myNumericDf = X.select_dtypes(exclude='object')\n",
    "#print(myNumericDf); print()\n",
    "\n",
    "# Создать из категориальных переменных Dummy переменные (one hot encoding)\n",
    "myDummiesDf = pd.get_dummies(myObjectDf, drop_first=True)\n",
    "\n",
    "for col in myDummiesDf.columns:\n",
    "    tmp = myDummiesDf[col].apply(int)\n",
    "    myDummiesDf[col] = tmp\n",
    "\n",
    "X = pd.concat([myNumericDf, myDummiesDf], axis='columns')"
   ]
  },
  {
   "cell_type": "code",
   "execution_count": 49,
   "id": "3e3dc15e-a072-4985-990b-c564d373f0eb",
   "metadata": {
    "tags": []
   },
   "outputs": [],
   "source": [
    "# Разбить набор данных на тренировочные и тестовые данные\n",
    "X_train, X_test, y_train, y_test = train_test_split(X, y, test_size=0.2, stratify=y, random_state=101)"
   ]
  },
  {
   "cell_type": "code",
   "execution_count": 50,
   "id": "0073e047-7c3e-45d0-a332-af8fcc2f2d06",
   "metadata": {
    "tags": []
   },
   "outputs": [
    {
     "name": "stdout",
     "output_type": "stream",
     "text": [
      "Fitting 5 folds for each of 27 candidates, totalling 135 fits\n"
     ]
    },
    {
     "data": {
      "text/plain": [
       "{'learning_rate': 0.1, 'max_depth': 5, 'n_estimators': 100}"
      ]
     },
     "execution_count": 50,
     "metadata": {},
     "output_type": "execute_result"
    }
   ],
   "source": [
    "# Создать объект модели обучения\n",
    "gradBoostModel = GradientBoostingClassifier()\n",
    "\n",
    "# Значения гиперпараметров модели обучения, которые будут проверяться как оптимальные\n",
    "paramsGrid = {\n",
    "    # Количество деревьев решений\n",
    "    'n_estimators': [20, 50, 100],\n",
    "    # Коэффициент обучения\n",
    "    'learning_rate': [0.05, 0.1, 0.2],\n",
    "    # Глубина деревьев решений\n",
    "    'max_depth': [3, 4, 5]\n",
    "}\n",
    "\n",
    "# Поиск по сетке\n",
    "gridSearchCV = GridSearchCV(\n",
    "    # Модель, которую нужно обучить\n",
    "    estimator=gradBoostModel,\n",
    "    # Списки значений гиперпараметров, из которых нужно найти оптимальные\n",
    "    param_grid=paramsGrid,\n",
    "    # На сколько частей разбить тренировочные данные\n",
    "    # для алгоритма кросс-валидации\n",
    "    cv=5,\n",
    "    # Чем больше значение, тем больше выводить информации на экран\n",
    "    verbose=1\n",
    ")\n",
    "\n",
    "# Найти оптимальную комбинацию гиперпараметров (с помощью метода кросс-валидации)\n",
    "# и вернуть на выходе обученную модель\n",
    "gridSearchCV.fit(X_train, y_train)\n",
    "\n",
    "# Какая комбинация гиперпараметров лучшая\n",
    "bestParams = gridSearchCV.best_params_\n",
    "bestParams"
   ]
  },
  {
   "cell_type": "code",
   "execution_count": 51,
   "id": "3ef43888-6909-4713-bcba-af2079c8981b",
   "metadata": {
    "tags": []
   },
   "outputs": [],
   "source": [
    "# Вычислить вероятности целевых переменных, на основе обученной модели\n",
    "yPredictProbability = gridSearchCV.predict_proba(X_test)\n",
    "#yPredictProbability"
   ]
  },
  {
   "cell_type": "code",
   "execution_count": 52,
   "id": "d0e307b7-7fb2-40ab-8f7f-ef61365b6b15",
   "metadata": {
    "tags": []
   },
   "outputs": [
    {
     "name": "stdout",
     "output_type": "stream",
     "text": [
      "Yes [0.57991653 0.42008347]\n",
      "No [0.98388404 0.01611596]\n"
     ]
    }
   ],
   "source": [
    "print(y_test.iloc[0], yPredictProbability[0])\n",
    "print(y_test.iloc[1], yPredictProbability[1])"
   ]
  },
  {
   "cell_type": "code",
   "execution_count": 53,
   "id": "c69ca7ae-bd21-4562-a64e-6a041cac9192",
   "metadata": {
    "tags": []
   },
   "outputs": [],
   "source": [
    "# Вычислить целевые переменные, на основе обученной модели\n",
    "yPredict = gridSearchCV.predict(X_test)\n",
    "#yPredict"
   ]
  },
  {
   "cell_type": "code",
   "execution_count": 54,
   "id": "19ecfa87-6500-4171-9fe0-e343d403966f",
   "metadata": {
    "tags": []
   },
   "outputs": [],
   "source": [
    "# Оценки (метрики)"
   ]
  },
  {
   "cell_type": "code",
   "execution_count": 55,
   "id": "2ab44e9f-c345-4ce6-aef3-897be777df32",
   "metadata": {
    "tags": []
   },
   "outputs": [
    {
     "name": "stdout",
     "output_type": "stream",
     "text": [
      "Accuracy: 0.797\n",
      "\n"
     ]
    }
   ],
   "source": [
    "# Accuracy - Процент правильных ответов\n",
    "accuracy = accuracy_score(y_test, yPredict)\n",
    "print(f'Accuracy: {accuracy:0.3f}', end='\\n\\n')"
   ]
  },
  {
   "cell_type": "code",
   "execution_count": 56,
   "id": "472f44a3-dd4b-4b25-aa85-427529ce79cb",
   "metadata": {
    "tags": []
   },
   "outputs": [
    {
     "name": "stdout",
     "output_type": "stream",
     "text": [
      "              precision    recall  f1-score   support\n",
      "\n",
      "          No       0.84      0.90      0.87      1033\n",
      "         Yes       0.65      0.51      0.57       374\n",
      "\n",
      "    accuracy                           0.80      1407\n",
      "   macro avg       0.74      0.71      0.72      1407\n",
      "weighted avg       0.79      0.80      0.79      1407\n",
      "\n"
     ]
    }
   ],
   "source": [
    "# Матрица с метриками (по отдельным классам): Precision, Recall и F1-score\n",
    "# F1-score - Гармоническое среднее между Precision и Recall\n",
    "# support - Количество значений отдельных классов, в тестовом наборе данных\n",
    "# macro avg - Обычное среднее\n",
    "# weighted avg - Взвешенное среднее, с учетом количества значений отдельных классов\n",
    "classificationReport = classification_report(y_test, yPredict)\n",
    "print(classificationReport)"
   ]
  },
  {
   "cell_type": "code",
   "execution_count": 57,
   "id": "17602ce1-b08d-417f-8080-54a7ab1254a4",
   "metadata": {
    "tags": []
   },
   "outputs": [
    {
     "data": {
      "text/plain": [
       "array([[930, 103],\n",
       "       [182, 192]], dtype=int64)"
      ]
     },
     "execution_count": 57,
     "metadata": {},
     "output_type": "execute_result"
    }
   ],
   "source": [
    "# Вычислить матрицу ошибок\n",
    "# По главной диагонали: правильные ответы.\n",
    "# По второй диагонали: ошибки\n",
    "# confusionMatrix[0][1]: Модель выдала True, там где на самом деле было Fale\n",
    "# confusionMatrix[1][0]: Модель выдала False, там где на самом деле было True\n",
    "confusionMatrix = confusion_matrix(y_test, yPredict)\n",
    "confusionMatrix"
   ]
  },
  {
   "cell_type": "code",
   "execution_count": 58,
   "id": "c036f5cd-49e1-424d-b49d-3d02cc098e65",
   "metadata": {
    "tags": []
   },
   "outputs": [
    {
     "data": {
      "image/png": "[encoded data removed]",
      "text/plain": [
       "<Figure size 600x300 with 2 Axes>"
      ]
     },
     "metadata": {},
     "output_type": "display_data"
    }
   ],
   "source": [
    "fig, axes = plt.subplots(nrows=1, ncols=1, figsize=(6, 3), dpi=100)\n",
    "# Визуализация матрицы ошибок (на графике)\n",
    "ConfusionMatrixDisplay.from_estimator(\n",
    "    # обученная модель\n",
    "    estimator=gridSearchCV,\n",
    "    # тестовый набор данных\n",
    "    X=X_test,\n",
    "    y=y_test,\n",
    "    # связать график с Matplotlib\n",
    "    ax=axes\n",
    ");"
   ]
  },
  {
   "cell_type": "code",
   "execution_count": 59,
   "id": "7296368f-bd07-4d69-b665-6f5cc161a3d4",
   "metadata": {
    "tags": []
   },
   "outputs": [
    {
     "data": {
      "text/html": [
       "<style>#sk-container-id-1 {color: black;}#sk-container-id-1 pre{padding: 0;}#sk-container-id-1 div.sk-toggleable {background-color: white;}#sk-container-id-1 label.sk-toggleable__label {cursor: pointer;display: block;width: 100%;margin-bottom: 0;padding: 0.3em;box-sizing: border-box;text-align: center;}#sk-container-id-1 label.sk-toggleable__label-arrow:before {content: \"▸\";float: left;margin-right: 0.25em;color: #696969;}#sk-container-id-1 label.sk-toggleable__label-arrow:hover:before {color: black;}#sk-container-id-1 div.sk-estimator:hover label.sk-toggleable__label-arrow:before {color: black;}#sk-container-id-1 div.sk-toggleable__content {max-height: 0;max-width: 0;overflow: hidden;text-align: left;background-color: #f0f8ff;}#sk-container-id-1 div.sk-toggleable__content pre {margin: 0.2em;color: black;border-radius: 0.25em;background-color: #f0f8ff;}#sk-container-id-1 input.sk-toggleable__control:checked~div.sk-toggleable__content {max-height: 200px;max-width: 100%;overflow: auto;}#sk-container-id-1 input.sk-toggleable__control:checked~label.sk-toggleable__label-arrow:before {content: \"▾\";}#sk-container-id-1 div.sk-estimator input.sk-toggleable__control:checked~label.sk-toggleable__label {background-color: #d4ebff;}#sk-container-id-1 div.sk-label input.sk-toggleable__control:checked~label.sk-toggleable__label {background-color: #d4ebff;}#sk-container-id-1 input.sk-hidden--visually {border: 0;clip: rect(1px 1px 1px 1px);clip: rect(1px, 1px, 1px, 1px);height: 1px;margin: -1px;overflow: hidden;padding: 0;position: absolute;width: 1px;}#sk-container-id-1 div.sk-estimator {font-family: monospace;background-color: #f0f8ff;border: 1px dotted black;border-radius: 0.25em;box-sizing: border-box;margin-bottom: 0.5em;}#sk-container-id-1 div.sk-estimator:hover {background-color: #d4ebff;}#sk-container-id-1 div.sk-parallel-item::after {content: \"\";width: 100%;border-bottom: 1px solid gray;flex-grow: 1;}#sk-container-id-1 div.sk-label:hover label.sk-toggleable__label {background-color: #d4ebff;}#sk-container-id-1 div.sk-serial::before {content: \"\";position: absolute;border-left: 1px solid gray;box-sizing: border-box;top: 0;bottom: 0;left: 50%;z-index: 0;}#sk-container-id-1 div.sk-serial {display: flex;flex-direction: column;align-items: center;background-color: white;padding-right: 0.2em;padding-left: 0.2em;position: relative;}#sk-container-id-1 div.sk-item {position: relative;z-index: 1;}#sk-container-id-1 div.sk-parallel {display: flex;align-items: stretch;justify-content: center;background-color: white;position: relative;}#sk-container-id-1 div.sk-item::before, #sk-container-id-1 div.sk-parallel-item::before {content: \"\";position: absolute;border-left: 1px solid gray;box-sizing: border-box;top: 0;bottom: 0;left: 50%;z-index: -1;}#sk-container-id-1 div.sk-parallel-item {display: flex;flex-direction: column;z-index: 1;position: relative;background-color: white;}#sk-container-id-1 div.sk-parallel-item:first-child::after {align-self: flex-end;width: 50%;}#sk-container-id-1 div.sk-parallel-item:last-child::after {align-self: flex-start;width: 50%;}#sk-container-id-1 div.sk-parallel-item:only-child::after {width: 0;}#sk-container-id-1 div.sk-dashed-wrapped {border: 1px dashed gray;margin: 0 0.4em 0.5em 0.4em;box-sizing: border-box;padding-bottom: 0.4em;background-color: white;}#sk-container-id-1 div.sk-label label {font-family: monospace;font-weight: bold;display: inline-block;line-height: 1.2em;}#sk-container-id-1 div.sk-label-container {text-align: center;}#sk-container-id-1 div.sk-container {/* jupyter's `normalize.less` sets `[hidden] { display: none; }` but bootstrap.min.css set `[hidden] { display: none !important; }` so we also need the `!important` here to be able to override the default hidden behavior on the sphinx rendered scikit-learn.org. See: https://github.com/scikit-learn/scikit-learn/issues/21755 */display: inline-block !important;position: relative;}#sk-container-id-1 div.sk-text-repr-fallback {display: none;}</style><div id=\"sk-container-id-1\" class=\"sk-top-container\"><div class=\"sk-text-repr-fallback\"><pre>GradientBoostingClassifier(max_depth=5)</pre><b>In a Jupyter environment, please rerun this cell to show the HTML representation or trust the notebook. <br />On GitHub, the HTML representation is unable to render, please try loading this page with nbviewer.org.</b></div><div class=\"sk-container\" hidden><div class=\"sk-item\"><div class=\"sk-estimator sk-toggleable\"><input class=\"sk-toggleable__control sk-hidden--visually\" id=\"sk-estimator-id-1\" type=\"checkbox\" checked><label for=\"sk-estimator-id-1\" class=\"sk-toggleable__label sk-toggleable__label-arrow\">GradientBoostingClassifier</label><div class=\"sk-toggleable__content\"><pre>GradientBoostingClassifier(max_depth=5)</pre></div></div></div></div></div>"
      ],
      "text/plain": [
       "GradientBoostingClassifier(max_depth=5)"
      ]
     },
     "execution_count": 59,
     "metadata": {},
     "output_type": "execute_result"
    }
   ],
   "source": [
    "# Доступ к обученной модели\n",
    "gridSearchCV.best_estimator_"
   ]
  },
  {
   "cell_type": "code",
   "execution_count": 61,
   "id": "bd6d6ac9-7b74-43c5-94b4-08222b5b784a",
   "metadata": {
    "tags": []
   },
   "outputs": [],
   "source": [
    "# Важность признаков для обученной модели\n",
    "featureImportances = gridSearchCV.best_estimator_.feature_importances_\n",
    "featuresDF = pd.DataFrame(data=featureImportances, index=X.columns, columns=['importance'])\n",
    "# Оставить только признаки, важность которых > 0.005\n",
    "importanceFeatures = featuresDF[featuresDF['importance'] > 0.005]\n",
    "importanceFeatures = importanceFeatures.sort_values(by='importance')\n",
    "#importanceFeatures"
   ]
  },
  {
   "cell_type": "code",
   "execution_count": 62,
   "id": "a6da2cd5-a617-4ae4-bb27-f16e11a2e8ca",
   "metadata": {
    "tags": []
   },
   "outputs": [
    {
     "data": {
      "image/png": "[encoded data removed]",
      "text/plain": [
       "<Figure size 1000x400 with 1 Axes>"
      ]
     },
     "metadata": {},
     "output_type": "display_data"
    }
   ],
   "source": [
    "fig, axes = plt.subplots(nrows=1, ncols=1, figsize=(10, 4), dpi=100)\n",
    "# Строим график:\n",
    "sns.barplot(data=importanceFeatures, x=importanceFeatures.index, y='importance')\n",
    "plt.xticks(rotation=90);"
   ]
  },
  {
   "cell_type": "code",
   "execution_count": null,
   "id": "9646352d-839d-4907-a655-29dc6a319822",
   "metadata": {},
   "outputs": [],
   "source": [
    "# Извините, можно шаг с XGBoost, CatBoost, LightGBM пропустить!\n",
    "# Весь код останется точно таким же. Изменятся только метрики качества.\n",
    "\n",
    "# И да, я понимаю, что главная задача здесь - распознать клиентов, которые могут уйти в отток.\n",
    "# Метрика recall для такой задачи, мягко говоря, неудовлетворительная.\n",
    "# Но для учебных целей может будет простительно"
   ]
  }
 ],
 "metadata": {
  "kernelspec": {
   "display_name": "Python 3 (ipykernel)",
   "language": "python",
   "name": "python3"
  },
  "language_info": {
   "codemirror_mode": {
    "name": "ipython",
    "version": 3
   },
   "file_extension": ".py",
   "mimetype": "text/x-python",
   "name": "python",
   "nbconvert_exporter": "python",
   "pygments_lexer": "ipython3",
   "version": "3.11.5"
  }
 },
 "nbformat": 4,
 "nbformat_minor": 5
}
